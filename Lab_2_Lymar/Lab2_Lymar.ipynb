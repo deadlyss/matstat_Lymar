{
 "cells": [
  {
   "cell_type": "markdown",
   "id": "f267d3c5-d7ed-4bbe-a074-e9604b65d6bd",
   "metadata": {},
   "source": [
    "<h1>Лабораторна робота 2. Робота в середовищі Anaconda</h1>\n",
    "\n",
    "<h3>Виконав студент групи КН-23-1 Лимар Дмитро</h3>"
   ]
  },
  {
   "cell_type": "markdown",
   "id": "8bff3600-a795-4801-ae8d-9ee693bf9a76",
   "metadata": {},
   "source": [
    "__Виконання самостійної роботи:__\n",
    "\n",
    "1-5 завдання на скріншоті."
   ]
  },
  {
   "cell_type": "markdown",
   "id": "87c555db-bb4c-4629-a9fc-48bc99db34ef",
   "metadata": {},
   "source": [
    "![](navigator.jpg)"
   ]
  },
  {
   "cell_type": "markdown",
   "id": "23359131-cb7b-459b-a4c7-7d13b5487163",
   "metadata": {},
   "source": [
    "__Відповіді на запитання:__\n",
    "\n",
    "1. Що таке pip і conda та чим вони відрізняються між собою?\n",
    "   \n",
    "Pip - стандартний менеджер пакетів для Pyth, а Conda це універсальний менеджер пакетів, що може встановлювати пакети з різних мов.\n",
    "\n",
    "2. Як буде виглядати виконання пунктів 1-3 індивідуального завдання за допомогою Virtual\n",
    "   \n",
    "   - Завантажити збірку.\n",
    "\n",
    "   - Буде виконуватись командою \"python -m venv Lymar_OpenCV\".\n",
    "\n",
    "   - Буде виконуватись командою \"pip install -r\".\n",
    "   \n",
    "3. Написати процедуру на Python сортування масиву методом бульбашка?"
   ]
  },
  {
   "cell_type": "code",
   "execution_count": 5,
   "id": "8ac94665-d2c7-457d-b7f9-9e76f4af5c87",
   "metadata": {},
   "outputs": [
    {
     "name": "stdout",
     "output_type": "stream",
     "text": [
      "Відсортований масив:\n",
      "11 12 22 25 34 64 90 "
     ]
    }
   ],
   "source": [
    "def bubble_sort(array):\n",
    "    n = len(array)\n",
    "    for i in range(n):\n",
    "        for j in range(0, n-i-1): # Оскільки останній i елемент вже на місці\n",
    "            if array[j] > array[j+1] :\n",
    "                array[j], array[j+1] = array[j+1], array[j]\n",
    "\n",
    "# Використання процедури\n",
    "arr = [64, 34, 25, 12, 22, 11, 90]\n",
    "\n",
    "bubble_sort(arr)\n",
    "\n",
    "print(\"Відсортований масив:\")\n",
    "for i in range(len(arr)):\n",
    "    print(\"%d\" %arr[i], end=\" \")"
   ]
  },
  {
   "cell_type": "markdown",
   "id": "4e45f051-566e-4b3d-bb1c-eda96f99e7e5",
   "metadata": {},
   "source": [
    "4. Як виконати компіляцію вхідного документа Jupyter Notebook із його середовища, не використовуючи інтерфейс командного рядка?\n",
    "\n",
    "- Через графічну оболонку в Jupyter оберіть потрібний вам файл.\n",
    "\n",
    "- Натисніть в головну пункт File.\n",
    "\n",
    "- Оберіть підпункт Save and Export Notebook AS.\n",
    "\n",
    "- Оберіть в якому форматі компілювати."
   ]
  },
  {
   "cell_type": "code",
   "execution_count": null,
   "id": "dc507667-58e2-422a-8b74-10ed62792a42",
   "metadata": {},
   "outputs": [],
   "source": []
  }
 ],
 "metadata": {
  "kernelspec": {
   "display_name": "Python 3 (ipykernel)",
   "language": "python",
   "name": "python3"
  },
  "language_info": {
   "codemirror_mode": {
    "name": "ipython",
    "version": 3
   },
   "file_extension": ".py",
   "mimetype": "text/x-python",
   "name": "python",
   "nbconvert_exporter": "python",
   "pygments_lexer": "ipython3",
   "version": "3.12.2"
  }
 },
 "nbformat": 4,
 "nbformat_minor": 5
}
